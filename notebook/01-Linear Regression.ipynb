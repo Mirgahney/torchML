{
 "cells": [
  {
   "cell_type": "markdown",
   "metadata": {},
   "source": [
    "## Linear regression"
   ]
  },
  {
   "cell_type": "code",
   "execution_count": 1,
   "metadata": {},
   "outputs": [],
   "source": [
    "import torch"
   ]
  },
  {
   "cell_type": "code",
   "execution_count": 2,
   "metadata": {},
   "outputs": [],
   "source": [
    "# woring with Boston dataset for sklearn\n",
    "from sklearn.datasets import load_boston\n",
    "\n",
    "data = load_boston()"
   ]
  },
  {
   "cell_type": "code",
   "execution_count": 3,
   "metadata": {},
   "outputs": [
    {
     "name": "stdout",
     "output_type": "stream",
     "text": [
      ".. _boston_dataset:\n",
      "\n",
      "Boston house prices dataset\n",
      "---------------------------\n",
      "\n",
      "**Data Set Characteristics:**  \n",
      "\n",
      "    :Number of Instances: 506 \n",
      "\n",
      "    :Number of Attributes: 13 numeric/categorical predictive. Median Value (attribute 14) is usually the target.\n",
      "\n",
      "    :Attribute Information (in order):\n",
      "        - CRIM     per capita crime rate by town\n",
      "        - ZN       proportion of residential land zoned for lots over 25,000 sq.ft.\n",
      "        - INDUS    proportion of non-retail business acres per town\n",
      "        - CHAS     Charles River dummy variable (= 1 if tract bounds river; 0 otherwise)\n",
      "        - NOX      nitric oxides concentration (parts per 10 million)\n",
      "        - RM       average number of rooms per dwelling\n",
      "        - AGE      proportion of owner-occupied units built prior to 1940\n",
      "        - DIS      weighted distances to five Boston employment centres\n",
      "        - RAD      index of accessibility to radial highways\n",
      "        - TAX      full-value property-tax rate per $10,000\n",
      "        - PTRATIO  pupil-teacher ratio by town\n",
      "        - B        1000(Bk - 0.63)^2 where Bk is the proportion of blacks by town\n",
      "        - LSTAT    % lower status of the population\n",
      "        - MEDV     Median value of owner-occupied homes in $1000's\n",
      "\n",
      "    :Missing Attribute Values: None\n",
      "\n",
      "    :Creator: Harrison, D. and Rubinfeld, D.L.\n",
      "\n",
      "This is a copy of UCI ML housing dataset.\n",
      "https://archive.ics.uci.edu/ml/machine-learning-databases/housing/\n",
      "\n",
      "\n",
      "This dataset was taken from the StatLib library which is maintained at Carnegie Mellon University.\n",
      "\n",
      "The Boston house-price data of Harrison, D. and Rubinfeld, D.L. 'Hedonic\n",
      "prices and the demand for clean air', J. Environ. Economics & Management,\n",
      "vol.5, 81-102, 1978.   Used in Belsley, Kuh & Welsch, 'Regression diagnostics\n",
      "...', Wiley, 1980.   N.B. Various transformations are used in the table on\n",
      "pages 244-261 of the latter.\n",
      "\n",
      "The Boston house-price data has been used in many machine learning papers that address regression\n",
      "problems.   \n",
      "     \n",
      ".. topic:: References\n",
      "\n",
      "   - Belsley, Kuh & Welsch, 'Regression diagnostics: Identifying Influential Data and Sources of Collinearity', Wiley, 1980. 244-261.\n",
      "   - Quinlan,R. (1993). Combining Instance-Based and Model-Based Learning. In Proceedings on the Tenth International Conference of Machine Learning, 236-243, University of Massachusetts, Amherst. Morgan Kaufmann.\n",
      "\n"
     ]
    }
   ],
   "source": [
    "print(data.DESCR)"
   ]
  },
  {
   "cell_type": "code",
   "execution_count": 3,
   "metadata": {},
   "outputs": [],
   "source": [
    "trainX = data.data\n",
    "trainY = data.target"
   ]
  },
  {
   "cell_type": "code",
   "execution_count": 4,
   "metadata": {},
   "outputs": [
    {
     "name": "stdout",
     "output_type": "stream",
     "text": [
      "X shape (506, 13)\n",
      "Y shape (506,)\n"
     ]
    }
   ],
   "source": [
    "print('X shape ' + str(trainX.shape))\n",
    "print('Y shape ' + str(trainY.shape))"
   ]
  },
  {
   "cell_type": "markdown",
   "metadata": {},
   "source": []
  },
  {
   "cell_type": "code",
   "execution_count": 5,
   "metadata": {},
   "outputs": [],
   "source": [
    "tenX = torch.tensor(trainX)\n",
    "tenY = torch.tensor(trainY)"
   ]
  },
  {
   "cell_type": "code",
   "execution_count": 6,
   "metadata": {},
   "outputs": [],
   "source": [
    "# normalize\n",
    "std = tenX.std()\n",
    "tenX -=tenX.mean()\n",
    "tenX /= std"
   ]
  },
  {
   "cell_type": "code",
   "execution_count": 19,
   "metadata": {},
   "outputs": [
    {
     "data": {
      "text/plain": [
       "tensor([[1, 0, 0, 0, 0, 0, 0, 0, 0, 0, 0, 0, 0],\n",
       "        [0, 1, 0, 0, 0, 0, 0, 0, 0, 0, 0, 0, 0],\n",
       "        [0, 0, 1, 0, 0, 0, 0, 0, 0, 0, 0, 0, 0],\n",
       "        [0, 0, 0, 1, 0, 0, 0, 0, 0, 0, 0, 0, 0],\n",
       "        [0, 0, 0, 0, 1, 0, 0, 0, 0, 0, 0, 0, 0],\n",
       "        [0, 0, 0, 0, 0, 1, 0, 0, 0, 0, 0, 0, 0],\n",
       "        [0, 0, 0, 0, 0, 0, 1, 0, 0, 0, 0, 0, 0],\n",
       "        [0, 0, 0, 0, 0, 0, 0, 1, 0, 0, 0, 0, 0],\n",
       "        [0, 0, 0, 0, 0, 0, 0, 0, 1, 0, 0, 0, 0],\n",
       "        [0, 0, 0, 0, 0, 0, 0, 0, 0, 1, 0, 0, 0],\n",
       "        [0, 0, 0, 0, 0, 0, 0, 0, 0, 0, 1, 0, 0],\n",
       "        [0, 0, 0, 0, 0, 0, 0, 0, 0, 0, 0, 1, 0],\n",
       "        [0, 0, 0, 0, 0, 0, 0, 0, 0, 0, 0, 0, 1]])"
      ]
     },
     "execution_count": 19,
     "metadata": {},
     "output_type": "execute_result"
    }
   ],
   "source": [
    "torch.eye(tenX.shape[1]).long()"
   ]
  },
  {
   "cell_type": "code",
   "execution_count": 21,
   "metadata": {},
   "outputs": [],
   "source": [
    "theta_ML =  torch.matmul(torch.inverse(torch.matmul(tenX.t(),tenX) + torch.eye(tenX.shape[1]).double()), torch.matmul(tenX.t(),tenY))"
   ]
  },
  {
   "cell_type": "code",
   "execution_count": 28,
   "metadata": {},
   "outputs": [],
   "source": [
    "y_pred = torch.matmul(tenX, theta_ML)"
   ]
  },
  {
   "cell_type": "code",
   "execution_count": 51,
   "metadata": {},
   "outputs": [],
   "source": [
    "def MSE(y, y_pred):\n",
    "    return torch.matmul((y - y_pred).view(-1,1).t(), (y - y_pred).view(-1,1)).mean() "
   ]
  },
  {
   "cell_type": "code",
   "execution_count": 57,
   "metadata": {},
   "outputs": [
    {
     "data": {
      "text/plain": [
       "tensor(12228.0463, dtype=torch.float64)"
      ]
     },
     "execution_count": 57,
     "metadata": {},
     "output_type": "execute_result"
    }
   ],
   "source": [
    "MSE(tenY,y_pred)"
   ]
  },
  {
   "cell_type": "code",
   "execution_count": 30,
   "metadata": {},
   "outputs": [],
   "source": [
    "from sklearn.linear_model import LinearRegression\n",
    "\n",
    "lr = LinearRegression()"
   ]
  },
  {
   "cell_type": "code",
   "execution_count": 31,
   "metadata": {},
   "outputs": [
    {
     "data": {
      "text/plain": [
       "LinearRegression(copy_X=True, fit_intercept=True, n_jobs=None,\n",
       "         normalize=False)"
      ]
     },
     "execution_count": 31,
     "metadata": {},
     "output_type": "execute_result"
    }
   ],
   "source": [
    "lr.fit(trainX,trainY)"
   ]
  },
  {
   "cell_type": "code",
   "execution_count": 32,
   "metadata": {},
   "outputs": [],
   "source": [
    "sky_pred = lr.predict(trainX)"
   ]
  },
  {
   "cell_type": "code",
   "execution_count": 50,
   "metadata": {},
   "outputs": [],
   "source": [
    "def MSE_sk(y, y_pred):\n",
    "    return ((y - y_pred).T @ (y - y_pred)).mean()"
   ]
  },
  {
   "cell_type": "code",
   "execution_count": 58,
   "metadata": {},
   "outputs": [
    {
     "data": {
      "text/plain": [
       "11078.784577954977"
      ]
     },
     "execution_count": 58,
     "metadata": {},
     "output_type": "execute_result"
    }
   ],
   "source": [
    "MSE_sk(trainY, sky_pred)"
   ]
  },
  {
   "cell_type": "code",
   "execution_count": 48,
   "metadata": {},
   "outputs": [
    {
     "data": {
      "text/plain": [
       "numpy.float64"
      ]
     },
     "execution_count": 48,
     "metadata": {},
     "output_type": "execute_result"
    }
   ],
   "source": [
    "type(trainX[0,0])"
   ]
  },
  {
   "cell_type": "code",
   "execution_count": 56,
   "metadata": {},
   "outputs": [
    {
     "data": {
      "text/plain": [
       "1149.2616830890233"
      ]
     },
     "execution_count": 56,
     "metadata": {},
     "output_type": "execute_result"
    }
   ],
   "source": [
    "MSE_sk(sky_pred, y_pred.numpy())"
   ]
  },
  {
   "cell_type": "markdown",
   "metadata": {},
   "source": [
    "## Define classes"
   ]
  },
  {
   "cell_type": "code",
   "execution_count": 46,
   "metadata": {},
   "outputs": [],
   "source": [
    "from sklearn.linear_model import LinearRegression"
   ]
  },
  {
   "cell_type": "code",
   "execution_count": 3,
   "metadata": {},
   "outputs": [],
   "source": [
    "from sklearn import linear_model"
   ]
  },
  {
   "cell_type": "code",
   "execution_count": 22,
   "metadata": {},
   "outputs": [],
   "source": [
    "import torch\n",
    "from torch import matmul, inverse\n",
    "\n",
    "class LinearRegression:\n",
    "    def __init__(self, fit_intercept=True, normalize=False, copy_X=True,\n",
    "                 n_jobs=None, penality = 'l2', l = 0.1):\n",
    "        self.fit_intercept = fit_intercept\n",
    "        self.normalize = normalize\n",
    "        self.copy_X = copy_X\n",
    "        self.penality = penality\n",
    "        self.l = l\n",
    "        self.theta = None\n",
    "        self.X = None\n",
    "        self.y = None\n",
    "        self.fitted = False\n",
    "  \n",
    "        \n",
    "    def predict(self,X):\n",
    "        if not self.fitted:\n",
    "            print('Need to fit the model fisrt use model.fit')\n",
    "            pass\n",
    "        else:\n",
    "            return matmul(X, self.theta)\n",
    "    \n",
    "    def fit(self, X,y):\n",
    "        self.X = X\n",
    "        self.y = y\n",
    "        \n",
    "        if self.copy_X:\n",
    "            self.X = X.clone()\n",
    "            \n",
    "        if self.normalize:\n",
    "            # normalize\n",
    "            std = self.X.std()\n",
    "            self.X -=self.X.mean()\n",
    "            self.X /= std\n",
    "        if self.penality == 'l2':\n",
    "            self.theta =  matmul(inverse(matmul(self.X.t(),self.X) + self.l*torch.eye(self.X.shape[1]).double()), matmul(self.X.t(),self.y))\n",
    "            self.fitted = True\n",
    "        \n",
    "    def get_report(self,X,y):\n",
    "        y_perd = self.predict(X)\n",
    "        mse = self.MSE(y, y_perd)\n",
    "        pass\n",
    "        \n",
    "    def MSE(self, y, y_pred):\n",
    "        return matmul((y - y_pred).view(-1,1).t(), (y - y_pred).view(-1,1)).mean() \n"
   ]
  },
  {
   "cell_type": "code",
   "execution_count": 23,
   "metadata": {},
   "outputs": [],
   "source": [
    "lin = LinearRegression()"
   ]
  },
  {
   "cell_type": "code",
   "execution_count": 24,
   "metadata": {},
   "outputs": [
    {
     "data": {
      "text/plain": [
       "<bound method LinearRegression.fit of <__main__.LinearRegression object at 0x7f6bafafa898>>"
      ]
     },
     "execution_count": 24,
     "metadata": {},
     "output_type": "execute_result"
    }
   ],
   "source": [
    "lin.fit"
   ]
  },
  {
   "cell_type": "code",
   "execution_count": 27,
   "metadata": {},
   "outputs": [
    {
     "data": {
      "text/plain": [
       "torch.Size([506])"
      ]
     },
     "execution_count": 27,
     "metadata": {},
     "output_type": "execute_result"
    }
   ],
   "source": [
    "lin.predict(tenX).shape"
   ]
  },
  {
   "cell_type": "code",
   "execution_count": 26,
   "metadata": {},
   "outputs": [],
   "source": [
    "lin.fit(tenX, tenY)"
   ]
  },
  {
   "cell_type": "markdown",
   "metadata": {},
   "source": [
    "## Non linear Transformation"
   ]
  },
  {
   "cell_type": "code",
   "execution_count": 28,
   "metadata": {},
   "outputs": [],
   "source": [
    "import LinearRegression"
   ]
  },
  {
   "cell_type": "code",
   "execution_count": 30,
   "metadata": {},
   "outputs": [],
   "source": [
    "lr = LinearRegression.LinearRegression()"
   ]
  },
  {
   "cell_type": "code",
   "execution_count": 90,
   "metadata": {},
   "outputs": [],
   "source": [
    "def point_feature(x,k):\n",
    "    feature = []\n",
    "    for i in range(k+1):\n",
    "        feature.append(x**i)\n",
    "    return np.array(feature)\n",
    "\n",
    "def poly_features(X, K):\n",
    "    \n",
    "    #X: inputs of size N x 1\n",
    "    #K: degree of the polynomial\n",
    "    # computes the feature matrix Phi (N x (K+1))\n",
    "    \n",
    "    N, D = X.shape\n",
    "    \n",
    "    #initialize Phi\n",
    "    Phi = np.zeros((N, (K+1)*D))\n",
    "    \n",
    "    # Compute the feature matrix in stages\n",
    "    Phi = np.apply_along_axis(point_feature,0,X, K).T \n",
    "    return np.reshape(Phi, (N,-1))"
   ]
  },
  {
   "cell_type": "code",
   "execution_count": 145,
   "metadata": {},
   "outputs": [],
   "source": [
    "def trig_point_feature(x,k):\n",
    "    feature = []\n",
    "    feature.append(1)\n",
    "    for i in range(1,k+1):\n",
    "        feature.append(np.sin(2*np.pi*i*x))\n",
    "        feature.append(np.cos(2*np.pi*i*x))\n",
    "    return np.array(feature, dtype=float)\n",
    "\n",
    "def trigonometric_features(X, K):\n",
    "    \n",
    "    #X: inputs of size N x 1\n",
    "    #K: degree of the polynomial\n",
    "    # computes the feature matrix Phi (N x (K+1))\n",
    "    \n",
    "    N, D = X.shape\n",
    "    X = X.flatten()\n",
    "    \n",
    "    #initialize Phi\n",
    "    Phi = np.zeros((D*N, (2*K+1)))\n",
    "    \n",
    "    # Compute the feature matrix in stages\n",
    "    #Phi = np.apply_along_axis(trig_point_feature,0,X, K).T # np.zeros((N, K+1))\n",
    "    for i in range(N):\n",
    "        Phi[i,:] = trig_point_feature(X[i],K)\n",
    "    return np.reshape(Phi, (N,-1))"
   ]
  },
  {
   "cell_type": "code",
   "execution_count": 147,
   "metadata": {},
   "outputs": [],
   "source": [
    "def gaussian_feature(x, l, k, mu_range = (0,1)):\n",
    "    feature = []\n",
    "    feature.append(1)\n",
    "    mu = 0\n",
    "    mu_step = (mu_range[1] - mu_range[0])/k\n",
    "    for i in range(1,k+1):\n",
    "        mu = i * mu_step\n",
    "        phi = np.exp(-((x - mu)**2)/(2*(l**2)))\n",
    "        feature.append(phi)\n",
    "    return np.array(feature)\n",
    "\n",
    "def gaussian_features(X, K,l, mu_range = (0,1)):\n",
    "    \n",
    "    #X: inputs of size N x 1\n",
    "    #K: degree of the polynomial\n",
    "    # computes the feature matrix Phi (N x (K+1))\n",
    "    \n",
    "    N, D = X.shape\n",
    "    X = X.flatten()\n",
    "    \n",
    "    #initialize Phi\n",
    "    Phi = np.zeros((D*N, K+1))\n",
    "    \n",
    "    # Compute the feature matrix in stages\n",
    "    #Phi = np.apply_along_axis(point_feature,0,X, K).T # np.zeros((N, K+1)) ## <-- EDIT THIS LINE\n",
    "    for i in range(N):\n",
    "        Phi[i,:] = gaussian_feature(X[i], l, K, mu_range)\n",
    "    return np.reshape(Phi, (N,-1))"
   ]
  },
  {
   "cell_type": "code",
   "execution_count": 160,
   "metadata": {},
   "outputs": [],
   "source": [
    "del(gaussian_features)"
   ]
  },
  {
   "cell_type": "code",
   "execution_count": 7,
   "metadata": {},
   "outputs": [],
   "source": [
    "import torch\n",
    "from torch import matmul, inverse\n",
    "from LinearRegression import LinearRegression\n",
    "import numpy as np\n",
    "from Transformation import * \n",
    "\n",
    "\n",
    "class NonLinearRegression:\n",
    "    def __init__(self, fit_intercept=True, normalize=False, copy_X=True,\n",
    "                 n_jobs=None, penality = 'l2', l = 0.1, transformer = 'poly', K = 3, length = 0.1, mu_range = (0,1)):\n",
    "        self.fit_intercept = fit_intercept\n",
    "        self.normalize = normalize\n",
    "        self.copy_X = copy_X\n",
    "        self.n_jobs = n_jobs\n",
    "        self.penality = penality\n",
    "        self.l = l\n",
    "        self.transformer = transformer\n",
    "        self.K = K\n",
    "        self.length = length\n",
    "        self.mu_range = mu_range\n",
    "        self.theta = None\n",
    "        self.X = None\n",
    "        self.y = None\n",
    "        self.fitted = False\n",
    "        \n",
    "        self.lr = LinearRegression(self.fit_intercept, self.normalize, self.copy_X, self.n_jobs, self.penality, self.l)\n",
    "  \n",
    "        \n",
    "    def predict(self,X):\n",
    "        if not self.lr.fitted:\n",
    "            print('Need to fit the model fisrt use model.fit')\n",
    "            pass\n",
    "        else:\n",
    "            if self.transformer == 'poly':\n",
    "                transformed_X = torch.from_numpy(poly_features(X, self.K))\n",
    "            \n",
    "            elif self.transformer == 'trigonometric':\n",
    "                transformed_X = torch.from_numpy(trigonometric_features(X, self.K))\n",
    "            \n",
    "            elif self.transformer == 'gaussian':\n",
    "                transformed_X = torch.from_numpy(gaussian_features(X, self.K, self.length, self.mu_range))\n",
    "            \n",
    "            else:\n",
    "                print('Undefined transformations use poly, trigonometric or gaussian')\n",
    "                pass\n",
    "        \n",
    "            return self.lr.predict(transformed_X)\n",
    "    \n",
    "    def fit(self, X,y):\n",
    "        self.X = X\n",
    "        self.y = y\n",
    "        \n",
    "        if self.transformer == 'poly':\n",
    "            print(self.K)\n",
    "            trans_X = torch.from_numpy(poly_features(self.X, self.K))\n",
    "            \n",
    "        elif self.transformer == 'trigonometric':\n",
    "            trans_X = torch.from_numpy(trigonometric_features(self.X, self.K))\n",
    "            \n",
    "        elif self.transformer == 'gaussian':\n",
    "            trans_X = torch.from_numpy(gaussian_features(self.X, self.K, self.length, self.mu_range))\n",
    "        \n",
    "        elif callable(self.transformer):\n",
    "            trans_X = torch.from_numpy(self.transformer(self.X, self.K, self.length, self.mu_range))\n",
    "        \n",
    "        else:\n",
    "            print('Undefined transformations use poly, trigonometric, gaussian or a user defined function')\n",
    "            pass\n",
    "        \n",
    "        self.lr.fit(trans_X, self.y)\n",
    "        self.theta = lr.theta #matmul(inverse(matmul(trans_X.t(),trans_X) + self.l*torch.eye(trans_X.shape[1]).double()), matmul(trans_X.t(),self.y)) #\n",
    "        self.fitted = True\n",
    "        \n",
    "    def get_report(self,X,y):\n",
    "        y_perd = self.predict(X)\n",
    "        mse = self.MSE(y, y_perd)\n",
    "        pass\n",
    "        \n",
    "    def MSE(self, y, y_pred):\n",
    "        return matmul((y - y_pred).view(-1,1).t(), (y - y_pred).view(-1,1)).mean() \n"
   ]
  },
  {
   "cell_type": "code",
   "execution_count": 14,
   "metadata": {},
   "outputs": [],
   "source": [
    "lr = NonLinearRegression(K=5, transformer='gaussian')"
   ]
  },
  {
   "cell_type": "code",
   "execution_count": 15,
   "metadata": {},
   "outputs": [],
   "source": [
    "lr.fit(tenX, tenY)"
   ]
  },
  {
   "cell_type": "code",
   "execution_count": 16,
   "metadata": {},
   "outputs": [
    {
     "data": {
      "text/plain": [
       "torch.Size([506])"
      ]
     },
     "execution_count": 16,
     "metadata": {},
     "output_type": "execute_result"
    }
   ],
   "source": [
    "lr.predict(tenX).shape"
   ]
  },
  {
   "cell_type": "code",
   "execution_count": 146,
   "metadata": {},
   "outputs": [
    {
     "data": {
      "text/plain": [
       "(1, 15)"
      ]
     },
     "execution_count": 146,
     "metadata": {},
     "output_type": "execute_result"
    }
   ],
   "source": [
    "trigonometric_features(torch.tensor([1,2,3]).view(1,-1),2).shape"
   ]
  },
  {
   "cell_type": "code",
   "execution_count": 123,
   "metadata": {},
   "outputs": [
    {
     "name": "stdout",
     "output_type": "stream",
     "text": [
      "[[ 1.         -0.2794155   0.96017029 -0.53657292  0.84385396]]\n",
      "[[ 1.         -0.53657292  0.84385396 -0.90557836  0.42417901]]\n"
     ]
    }
   ],
   "source": [
    "print(trigonometric_features(torch.tensor([1]),2))\n",
    "print(trigonometric_features(torch.tensor([2]),2))"
   ]
  },
  {
   "cell_type": "code",
   "execution_count": 18,
   "metadata": {},
   "outputs": [
    {
     "data": {
      "text/plain": [
       "True"
      ]
     },
     "execution_count": 18,
     "metadata": {},
     "output_type": "execute_result"
    }
   ],
   "source": [
    "callable(trig_point_feature)"
   ]
  }
 ],
 "metadata": {
  "kernelspec": {
   "display_name": "Python 3",
   "language": "python",
   "name": "python3"
  },
  "language_info": {
   "codemirror_mode": {
    "name": "ipython",
    "version": 3
   },
   "file_extension": ".py",
   "mimetype": "text/x-python",
   "name": "python",
   "nbconvert_exporter": "python",
   "pygments_lexer": "ipython3",
   "version": "3.6.5"
  }
 },
 "nbformat": 4,
 "nbformat_minor": 2
}
